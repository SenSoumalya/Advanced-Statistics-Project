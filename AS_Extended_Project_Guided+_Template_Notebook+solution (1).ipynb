{
 "cells": [
  {
   "cell_type": "markdown",
   "id": "5i1Du122jTeM",
   "metadata": {
    "id": "5i1Du122jTeM"
   },
   "source": [
    "## AS Extended Project"
   ]
  },
  {
   "cell_type": "markdown",
   "id": "2xUfZBo9JM9e",
   "metadata": {
    "id": "2xUfZBo9JM9e"
   },
   "source": [
    "# Problem Statement 1"
   ]
  },
  {
   "cell_type": "markdown",
   "id": "EHfztPYRahVa",
   "metadata": {
    "id": "EHfztPYRahVa"
   },
   "source": [
    "## Business Context"
   ]
  },
  {
   "cell_type": "markdown",
   "id": "ce2f08ec",
   "metadata": {
    "id": "ce2f08ec"
   },
   "source": [
    "The Student News Service at Clear Mountain State University (CMSU) has decided to gather data about the undergraduate students that attend CMSU. CMSU creates and distributes a survey of 14 questions and receives responses from 62 undergraduates (stored in the Survey data set)."
   ]
  },
  {
   "cell_type": "markdown",
   "id": "-3Ac0kySZ7NG",
   "metadata": {
    "id": "-3Ac0kySZ7NG"
   },
   "source": [
    "## Objective"
   ]
  },
  {
   "cell_type": "markdown",
   "id": "F5Djppb_awZi",
   "metadata": {
    "id": "F5Djppb_awZi"
   },
   "source": [
    "Based on the given data, answer the following questions.\n",
    "\n",
    "1. What is the probability that a randomly selected CMSU student will be male?\n",
    "\n",
    "2. What is the probability that a randomly selected CMSU student will be female?\n",
    "\n",
    "3. What is the conditional probability of different majors among the male students in CMSU?\n",
    "\n",
    "4. What is the conditional probability of different majors among the female students of CMSU?\n",
    "\n",
    "5. What is the probability That a randomly chosen student is a male and intends to graduate?\n",
    "\n",
    "6. What is the probability that a randomly selected student is a female and does NOT have a laptop?\n",
    "\n",
    "7. What is the probability that a randomly chosen student is a male or has full-time employment?\n",
    "\n",
    "8. What is the conditional probability that given a female student is randomly chosen, she is majoring in international business or management?\n",
    "\n",
    "9.  If a student is chosen randomly, what is the probability that his/her GPA is less than 3?\n",
    "\n",
    "10. What is the conditional probability that a randomly selected male earns 50 or more?\n",
    "\n",
    "11. What is the conditional probability that a randomly selected female earns 50 or more? \n",
    "\n",
    "12. Are the continuous variables in the data normally distributed? Write a note summarizing your conclusions.\n",
    "\n",
    "#### **Note**: Assume that the sample is representative of the population of CMSU."
   ]
  },
  {
   "cell_type": "markdown",
   "id": "G4owlGO6b9AS",
   "metadata": {
    "id": "G4owlGO6b9AS"
   },
   "source": [
    "## Data Description"
   ]
  },
  {
   "cell_type": "markdown",
   "id": "i8yr2ZQCcCG9",
   "metadata": {
    "id": "i8yr2ZQCcCG9"
   },
   "source": [
    "**ID:** A unique identifier for each undergraduate student.\n",
    "\n",
    "**Gender:** The gender of the student.\n",
    "\n",
    "**Age:** The age of the student. It is a numeric value representing the student's age in years.\n",
    "\n",
    "**Class:** The student's current academic class or year.\n",
    "\n",
    "**Major:** The student's declared major field of study.\n",
    "\n",
    "**Grad Intention:** The student's intention regarding graduation. It can have categorical values such as \"Yes\" or \"No\" indicating whether the student intends to graduate or not.\n",
    "\n",
    "**GPA:** The student's grade point average. It is a numeric value representing the student's academic performance.\n",
    "\n",
    "**Employment:** The employment status of the student. It can have categorical values such as \"Full-time,\" \"Part-time,\" or \"Unemployed.\"\n",
    "\n",
    "**Salary:** The student's monthly salary. It is a numeric value representing the amount in dollars.\n",
    "\n",
    "**Social Networking:** The amount of time the student spends on social networking per day. It is a numeric value representing the time in hours.\n",
    "\n",
    "**Satisfaction:** The student's satisfaction level with their college experience. It is a numeric value representing the satisfaction on a scale.\n",
    "\n",
    "**Spending:** The amount of money the student spends per semester. It is a numeric value representing the amount in dollars.\n",
    "\n",
    "**Computer:** The type of device of student.\n",
    "\n",
    "**Text Messages:** The number of text messages the student sends per day. It is a numeric value."
   ]
  },
  {
   "cell_type": "markdown",
   "id": "116fcc8b",
   "metadata": {
    "id": "116fcc8b"
   },
   "source": [
    "## Importing necessary libraries"
   ]
  },
  {
   "cell_type": "code",
   "execution_count": 1,
   "id": "224f3f6d",
   "metadata": {
    "id": "224f3f6d"
   },
   "outputs": [],
   "source": [
    "import numpy as np\n",
    "import pandas as pd\n",
    "import matplotlib.pyplot as plt\n",
    "%matplotlib inline\n",
    "import seaborn as sns\n",
    "from scipy import stats\n",
    "import warnings\n",
    "warnings.filterwarnings(\"ignore\")"
   ]
  },
  {
   "cell_type": "markdown",
   "id": "3e0a735a",
   "metadata": {
    "id": "3e0a735a"
   },
   "source": [
    "## Importing Dataset"
   ]
  },
  {
   "cell_type": "code",
   "execution_count": 2,
   "id": "9bb95a7a",
   "metadata": {
    "id": "9bb95a7a"
   },
   "outputs": [],
   "source": [
    "df= pd.read_csv(\"C:/Users/mechs/OneDrive/Desktop/AS EXTENDED PROJECT/Survey-1.csv\") ##  Fill the blank to read the data"
   ]
  },
  {
   "cell_type": "markdown",
   "id": "fef4fdb2",
   "metadata": {
    "id": "fef4fdb2"
   },
   "source": [
    "## Overview of the Dataset"
   ]
  },
  {
   "cell_type": "markdown",
   "id": "f88e826b",
   "metadata": {
    "id": "f88e826b"
   },
   "source": [
    "### View the first and last 5 rows of the dataset"
   ]
  },
  {
   "cell_type": "code",
   "execution_count": 4,
   "id": "2ed5eb5b",
   "metadata": {
    "id": "2ed5eb5b"
   },
   "outputs": [
    {
     "data": {
      "text/html": [
       "<div>\n",
       "<style scoped>\n",
       "    .dataframe tbody tr th:only-of-type {\n",
       "        vertical-align: middle;\n",
       "    }\n",
       "\n",
       "    .dataframe tbody tr th {\n",
       "        vertical-align: top;\n",
       "    }\n",
       "\n",
       "    .dataframe thead th {\n",
       "        text-align: right;\n",
       "    }\n",
       "</style>\n",
       "<table border=\"1\" class=\"dataframe\">\n",
       "  <thead>\n",
       "    <tr style=\"text-align: right;\">\n",
       "      <th></th>\n",
       "      <th>ID</th>\n",
       "      <th>Gender</th>\n",
       "      <th>Age</th>\n",
       "      <th>Class</th>\n",
       "      <th>Major</th>\n",
       "      <th>Grad Intention</th>\n",
       "      <th>GPA</th>\n",
       "      <th>Employment</th>\n",
       "      <th>Salary</th>\n",
       "      <th>Social Networking</th>\n",
       "      <th>Satisfaction</th>\n",
       "      <th>Spending</th>\n",
       "      <th>Computer</th>\n",
       "      <th>Text Messages</th>\n",
       "    </tr>\n",
       "  </thead>\n",
       "  <tbody>\n",
       "    <tr>\n",
       "      <th>0</th>\n",
       "      <td>1</td>\n",
       "      <td>Female</td>\n",
       "      <td>20</td>\n",
       "      <td>Junior</td>\n",
       "      <td>Other</td>\n",
       "      <td>Yes</td>\n",
       "      <td>2.9</td>\n",
       "      <td>Full-Time</td>\n",
       "      <td>50.0</td>\n",
       "      <td>1</td>\n",
       "      <td>3</td>\n",
       "      <td>350</td>\n",
       "      <td>Laptop</td>\n",
       "      <td>200</td>\n",
       "    </tr>\n",
       "    <tr>\n",
       "      <th>1</th>\n",
       "      <td>2</td>\n",
       "      <td>Male</td>\n",
       "      <td>23</td>\n",
       "      <td>Senior</td>\n",
       "      <td>Management</td>\n",
       "      <td>Yes</td>\n",
       "      <td>3.6</td>\n",
       "      <td>Part-Time</td>\n",
       "      <td>25.0</td>\n",
       "      <td>1</td>\n",
       "      <td>4</td>\n",
       "      <td>360</td>\n",
       "      <td>Laptop</td>\n",
       "      <td>50</td>\n",
       "    </tr>\n",
       "    <tr>\n",
       "      <th>2</th>\n",
       "      <td>3</td>\n",
       "      <td>Male</td>\n",
       "      <td>21</td>\n",
       "      <td>Junior</td>\n",
       "      <td>Other</td>\n",
       "      <td>Yes</td>\n",
       "      <td>2.5</td>\n",
       "      <td>Part-Time</td>\n",
       "      <td>45.0</td>\n",
       "      <td>2</td>\n",
       "      <td>4</td>\n",
       "      <td>600</td>\n",
       "      <td>Laptop</td>\n",
       "      <td>200</td>\n",
       "    </tr>\n",
       "    <tr>\n",
       "      <th>3</th>\n",
       "      <td>4</td>\n",
       "      <td>Male</td>\n",
       "      <td>21</td>\n",
       "      <td>Junior</td>\n",
       "      <td>CIS</td>\n",
       "      <td>Yes</td>\n",
       "      <td>2.5</td>\n",
       "      <td>Full-Time</td>\n",
       "      <td>40.0</td>\n",
       "      <td>4</td>\n",
       "      <td>6</td>\n",
       "      <td>600</td>\n",
       "      <td>Laptop</td>\n",
       "      <td>250</td>\n",
       "    </tr>\n",
       "    <tr>\n",
       "      <th>4</th>\n",
       "      <td>5</td>\n",
       "      <td>Male</td>\n",
       "      <td>23</td>\n",
       "      <td>Senior</td>\n",
       "      <td>Other</td>\n",
       "      <td>Undecided</td>\n",
       "      <td>2.8</td>\n",
       "      <td>Unemployed</td>\n",
       "      <td>40.0</td>\n",
       "      <td>2</td>\n",
       "      <td>4</td>\n",
       "      <td>500</td>\n",
       "      <td>Laptop</td>\n",
       "      <td>100</td>\n",
       "    </tr>\n",
       "  </tbody>\n",
       "</table>\n",
       "</div>"
      ],
      "text/plain": [
       "   ID  Gender  Age   Class       Major Grad Intention  GPA  Employment  \\\n",
       "0   1  Female   20  Junior       Other            Yes  2.9   Full-Time   \n",
       "1   2    Male   23  Senior  Management            Yes  3.6   Part-Time   \n",
       "2   3    Male   21  Junior       Other            Yes  2.5   Part-Time   \n",
       "3   4    Male   21  Junior         CIS            Yes  2.5   Full-Time   \n",
       "4   5    Male   23  Senior       Other      Undecided  2.8  Unemployed   \n",
       "\n",
       "   Salary  Social Networking  Satisfaction  Spending Computer  Text Messages  \n",
       "0    50.0                  1             3       350   Laptop            200  \n",
       "1    25.0                  1             4       360   Laptop             50  \n",
       "2    45.0                  2             4       600   Laptop            200  \n",
       "3    40.0                  4             6       600   Laptop            250  \n",
       "4    40.0                  2             4       500   Laptop            100  "
      ]
     },
     "execution_count": 4,
     "metadata": {},
     "output_type": "execute_result"
    }
   ],
   "source": [
    "df.head() ##  Complete the code to view top 5 rows of the data"
   ]
  },
  {
   "cell_type": "code",
   "execution_count": 5,
   "id": "50fcbece",
   "metadata": {
    "id": "50fcbece"
   },
   "outputs": [
    {
     "data": {
      "text/html": [
       "<div>\n",
       "<style scoped>\n",
       "    .dataframe tbody tr th:only-of-type {\n",
       "        vertical-align: middle;\n",
       "    }\n",
       "\n",
       "    .dataframe tbody tr th {\n",
       "        vertical-align: top;\n",
       "    }\n",
       "\n",
       "    .dataframe thead th {\n",
       "        text-align: right;\n",
       "    }\n",
       "</style>\n",
       "<table border=\"1\" class=\"dataframe\">\n",
       "  <thead>\n",
       "    <tr style=\"text-align: right;\">\n",
       "      <th></th>\n",
       "      <th>ID</th>\n",
       "      <th>Gender</th>\n",
       "      <th>Age</th>\n",
       "      <th>Class</th>\n",
       "      <th>Major</th>\n",
       "      <th>Grad Intention</th>\n",
       "      <th>GPA</th>\n",
       "      <th>Employment</th>\n",
       "      <th>Salary</th>\n",
       "      <th>Social Networking</th>\n",
       "      <th>Satisfaction</th>\n",
       "      <th>Spending</th>\n",
       "      <th>Computer</th>\n",
       "      <th>Text Messages</th>\n",
       "    </tr>\n",
       "  </thead>\n",
       "  <tbody>\n",
       "    <tr>\n",
       "      <th>57</th>\n",
       "      <td>58</td>\n",
       "      <td>Female</td>\n",
       "      <td>21</td>\n",
       "      <td>Senior</td>\n",
       "      <td>International Business</td>\n",
       "      <td>No</td>\n",
       "      <td>2.4</td>\n",
       "      <td>Part-Time</td>\n",
       "      <td>40.0</td>\n",
       "      <td>1</td>\n",
       "      <td>3</td>\n",
       "      <td>1000</td>\n",
       "      <td>Laptop</td>\n",
       "      <td>10</td>\n",
       "    </tr>\n",
       "    <tr>\n",
       "      <th>58</th>\n",
       "      <td>59</td>\n",
       "      <td>Female</td>\n",
       "      <td>20</td>\n",
       "      <td>Junior</td>\n",
       "      <td>CIS</td>\n",
       "      <td>No</td>\n",
       "      <td>2.9</td>\n",
       "      <td>Part-Time</td>\n",
       "      <td>40.0</td>\n",
       "      <td>2</td>\n",
       "      <td>4</td>\n",
       "      <td>350</td>\n",
       "      <td>Laptop</td>\n",
       "      <td>250</td>\n",
       "    </tr>\n",
       "    <tr>\n",
       "      <th>59</th>\n",
       "      <td>60</td>\n",
       "      <td>Female</td>\n",
       "      <td>20</td>\n",
       "      <td>Sophomore</td>\n",
       "      <td>CIS</td>\n",
       "      <td>No</td>\n",
       "      <td>2.5</td>\n",
       "      <td>Part-Time</td>\n",
       "      <td>55.0</td>\n",
       "      <td>1</td>\n",
       "      <td>4</td>\n",
       "      <td>500</td>\n",
       "      <td>Laptop</td>\n",
       "      <td>500</td>\n",
       "    </tr>\n",
       "    <tr>\n",
       "      <th>60</th>\n",
       "      <td>61</td>\n",
       "      <td>Female</td>\n",
       "      <td>23</td>\n",
       "      <td>Senior</td>\n",
       "      <td>Accounting</td>\n",
       "      <td>Yes</td>\n",
       "      <td>3.5</td>\n",
       "      <td>Part-Time</td>\n",
       "      <td>30.0</td>\n",
       "      <td>2</td>\n",
       "      <td>3</td>\n",
       "      <td>490</td>\n",
       "      <td>Laptop</td>\n",
       "      <td>50</td>\n",
       "    </tr>\n",
       "    <tr>\n",
       "      <th>61</th>\n",
       "      <td>62</td>\n",
       "      <td>Female</td>\n",
       "      <td>23</td>\n",
       "      <td>Senior</td>\n",
       "      <td>Economics/Finance</td>\n",
       "      <td>No</td>\n",
       "      <td>3.2</td>\n",
       "      <td>Part-Time</td>\n",
       "      <td>70.0</td>\n",
       "      <td>2</td>\n",
       "      <td>3</td>\n",
       "      <td>250</td>\n",
       "      <td>Laptop</td>\n",
       "      <td>0</td>\n",
       "    </tr>\n",
       "  </tbody>\n",
       "</table>\n",
       "</div>"
      ],
      "text/plain": [
       "    ID  Gender  Age      Class                   Major Grad Intention  GPA  \\\n",
       "57  58  Female   21     Senior  International Business             No  2.4   \n",
       "58  59  Female   20     Junior                     CIS             No  2.9   \n",
       "59  60  Female   20  Sophomore                     CIS             No  2.5   \n",
       "60  61  Female   23     Senior              Accounting            Yes  3.5   \n",
       "61  62  Female   23     Senior       Economics/Finance             No  3.2   \n",
       "\n",
       "   Employment  Salary  Social Networking  Satisfaction  Spending Computer  \\\n",
       "57  Part-Time    40.0                  1             3      1000   Laptop   \n",
       "58  Part-Time    40.0                  2             4       350   Laptop   \n",
       "59  Part-Time    55.0                  1             4       500   Laptop   \n",
       "60  Part-Time    30.0                  2             3       490   Laptop   \n",
       "61  Part-Time    70.0                  2             3       250   Laptop   \n",
       "\n",
       "    Text Messages  \n",
       "57             10  \n",
       "58            250  \n",
       "59            500  \n",
       "60             50  \n",
       "61              0  "
      ]
     },
     "execution_count": 5,
     "metadata": {},
     "output_type": "execute_result"
    }
   ],
   "source": [
    "df.tail() ##  Complete the code to view last 5 rows of the data"
   ]
  },
  {
   "cell_type": "markdown",
   "id": "3834d839",
   "metadata": {
    "id": "3834d839"
   },
   "source": [
    "### Understand the shape of the dataset"
   ]
  },
  {
   "cell_type": "code",
   "execution_count": 8,
   "id": "8822a95b",
   "metadata": {
    "id": "8822a95b"
   },
   "outputs": [
    {
     "data": {
      "text/plain": [
       "(62, 14)"
      ]
     },
     "execution_count": 8,
     "metadata": {},
     "output_type": "execute_result"
    }
   ],
   "source": [
    "df.shape ##  Complete the code to view dimensions of the data"
   ]
  },
  {
   "cell_type": "markdown",
   "id": "8971a9f2",
   "metadata": {
    "id": "8971a9f2"
   },
   "source": [
    "### Check the data types of the columns for the dataset"
   ]
  },
  {
   "cell_type": "code",
   "execution_count": 9,
   "id": "4ded6766",
   "metadata": {
    "id": "4ded6766"
   },
   "outputs": [
    {
     "data": {
      "text/plain": [
       "ID                     int64\n",
       "Gender                object\n",
       "Age                    int64\n",
       "Class                 object\n",
       "Major                 object\n",
       "Grad Intention        object\n",
       "GPA                  float64\n",
       "Employment            object\n",
       "Salary               float64\n",
       "Social Networking      int64\n",
       "Satisfaction           int64\n",
       "Spending               int64\n",
       "Computer              object\n",
       "Text Messages          int64\n",
       "dtype: object"
      ]
     },
     "execution_count": 9,
     "metadata": {},
     "output_type": "execute_result"
    }
   ],
   "source": [
    "df.dtypes ##  Complete the code to check the data types of the columns for the dataset"
   ]
  },
  {
   "cell_type": "markdown",
   "id": "a15ccd7e",
   "metadata": {
    "id": "a15ccd7e"
   },
   "source": [
    "### Check the missing values in the dataset"
   ]
  },
  {
   "cell_type": "code",
   "execution_count": 12,
   "id": "18f5a949",
   "metadata": {
    "id": "18f5a949"
   },
   "outputs": [
    {
     "data": {
      "text/html": [
       "<div>\n",
       "<style scoped>\n",
       "    .dataframe tbody tr th:only-of-type {\n",
       "        vertical-align: middle;\n",
       "    }\n",
       "\n",
       "    .dataframe tbody tr th {\n",
       "        vertical-align: top;\n",
       "    }\n",
       "\n",
       "    .dataframe thead th {\n",
       "        text-align: right;\n",
       "    }\n",
       "</style>\n",
       "<table border=\"1\" class=\"dataframe\">\n",
       "  <thead>\n",
       "    <tr style=\"text-align: right;\">\n",
       "      <th></th>\n",
       "      <th>ID</th>\n",
       "      <th>Gender</th>\n",
       "      <th>Age</th>\n",
       "      <th>Class</th>\n",
       "      <th>Major</th>\n",
       "      <th>Grad Intention</th>\n",
       "      <th>GPA</th>\n",
       "      <th>Employment</th>\n",
       "      <th>Salary</th>\n",
       "      <th>Social Networking</th>\n",
       "      <th>Satisfaction</th>\n",
       "      <th>Spending</th>\n",
       "      <th>Computer</th>\n",
       "      <th>Text Messages</th>\n",
       "    </tr>\n",
       "  </thead>\n",
       "  <tbody>\n",
       "    <tr>\n",
       "      <th>0</th>\n",
       "      <td>False</td>\n",
       "      <td>False</td>\n",
       "      <td>False</td>\n",
       "      <td>False</td>\n",
       "      <td>False</td>\n",
       "      <td>False</td>\n",
       "      <td>False</td>\n",
       "      <td>False</td>\n",
       "      <td>False</td>\n",
       "      <td>False</td>\n",
       "      <td>False</td>\n",
       "      <td>False</td>\n",
       "      <td>False</td>\n",
       "      <td>False</td>\n",
       "    </tr>\n",
       "    <tr>\n",
       "      <th>1</th>\n",
       "      <td>False</td>\n",
       "      <td>False</td>\n",
       "      <td>False</td>\n",
       "      <td>False</td>\n",
       "      <td>False</td>\n",
       "      <td>False</td>\n",
       "      <td>False</td>\n",
       "      <td>False</td>\n",
       "      <td>False</td>\n",
       "      <td>False</td>\n",
       "      <td>False</td>\n",
       "      <td>False</td>\n",
       "      <td>False</td>\n",
       "      <td>False</td>\n",
       "    </tr>\n",
       "    <tr>\n",
       "      <th>2</th>\n",
       "      <td>False</td>\n",
       "      <td>False</td>\n",
       "      <td>False</td>\n",
       "      <td>False</td>\n",
       "      <td>False</td>\n",
       "      <td>False</td>\n",
       "      <td>False</td>\n",
       "      <td>False</td>\n",
       "      <td>False</td>\n",
       "      <td>False</td>\n",
       "      <td>False</td>\n",
       "      <td>False</td>\n",
       "      <td>False</td>\n",
       "      <td>False</td>\n",
       "    </tr>\n",
       "    <tr>\n",
       "      <th>3</th>\n",
       "      <td>False</td>\n",
       "      <td>False</td>\n",
       "      <td>False</td>\n",
       "      <td>False</td>\n",
       "      <td>False</td>\n",
       "      <td>False</td>\n",
       "      <td>False</td>\n",
       "      <td>False</td>\n",
       "      <td>False</td>\n",
       "      <td>False</td>\n",
       "      <td>False</td>\n",
       "      <td>False</td>\n",
       "      <td>False</td>\n",
       "      <td>False</td>\n",
       "    </tr>\n",
       "    <tr>\n",
       "      <th>4</th>\n",
       "      <td>False</td>\n",
       "      <td>False</td>\n",
       "      <td>False</td>\n",
       "      <td>False</td>\n",
       "      <td>False</td>\n",
       "      <td>False</td>\n",
       "      <td>False</td>\n",
       "      <td>False</td>\n",
       "      <td>False</td>\n",
       "      <td>False</td>\n",
       "      <td>False</td>\n",
       "      <td>False</td>\n",
       "      <td>False</td>\n",
       "      <td>False</td>\n",
       "    </tr>\n",
       "    <tr>\n",
       "      <th>...</th>\n",
       "      <td>...</td>\n",
       "      <td>...</td>\n",
       "      <td>...</td>\n",
       "      <td>...</td>\n",
       "      <td>...</td>\n",
       "      <td>...</td>\n",
       "      <td>...</td>\n",
       "      <td>...</td>\n",
       "      <td>...</td>\n",
       "      <td>...</td>\n",
       "      <td>...</td>\n",
       "      <td>...</td>\n",
       "      <td>...</td>\n",
       "      <td>...</td>\n",
       "    </tr>\n",
       "    <tr>\n",
       "      <th>57</th>\n",
       "      <td>False</td>\n",
       "      <td>False</td>\n",
       "      <td>False</td>\n",
       "      <td>False</td>\n",
       "      <td>False</td>\n",
       "      <td>False</td>\n",
       "      <td>False</td>\n",
       "      <td>False</td>\n",
       "      <td>False</td>\n",
       "      <td>False</td>\n",
       "      <td>False</td>\n",
       "      <td>False</td>\n",
       "      <td>False</td>\n",
       "      <td>False</td>\n",
       "    </tr>\n",
       "    <tr>\n",
       "      <th>58</th>\n",
       "      <td>False</td>\n",
       "      <td>False</td>\n",
       "      <td>False</td>\n",
       "      <td>False</td>\n",
       "      <td>False</td>\n",
       "      <td>False</td>\n",
       "      <td>False</td>\n",
       "      <td>False</td>\n",
       "      <td>False</td>\n",
       "      <td>False</td>\n",
       "      <td>False</td>\n",
       "      <td>False</td>\n",
       "      <td>False</td>\n",
       "      <td>False</td>\n",
       "    </tr>\n",
       "    <tr>\n",
       "      <th>59</th>\n",
       "      <td>False</td>\n",
       "      <td>False</td>\n",
       "      <td>False</td>\n",
       "      <td>False</td>\n",
       "      <td>False</td>\n",
       "      <td>False</td>\n",
       "      <td>False</td>\n",
       "      <td>False</td>\n",
       "      <td>False</td>\n",
       "      <td>False</td>\n",
       "      <td>False</td>\n",
       "      <td>False</td>\n",
       "      <td>False</td>\n",
       "      <td>False</td>\n",
       "    </tr>\n",
       "    <tr>\n",
       "      <th>60</th>\n",
       "      <td>False</td>\n",
       "      <td>False</td>\n",
       "      <td>False</td>\n",
       "      <td>False</td>\n",
       "      <td>False</td>\n",
       "      <td>False</td>\n",
       "      <td>False</td>\n",
       "      <td>False</td>\n",
       "      <td>False</td>\n",
       "      <td>False</td>\n",
       "      <td>False</td>\n",
       "      <td>False</td>\n",
       "      <td>False</td>\n",
       "      <td>False</td>\n",
       "    </tr>\n",
       "    <tr>\n",
       "      <th>61</th>\n",
       "      <td>False</td>\n",
       "      <td>False</td>\n",
       "      <td>False</td>\n",
       "      <td>False</td>\n",
       "      <td>False</td>\n",
       "      <td>False</td>\n",
       "      <td>False</td>\n",
       "      <td>False</td>\n",
       "      <td>False</td>\n",
       "      <td>False</td>\n",
       "      <td>False</td>\n",
       "      <td>False</td>\n",
       "      <td>False</td>\n",
       "      <td>False</td>\n",
       "    </tr>\n",
       "  </tbody>\n",
       "</table>\n",
       "<p>62 rows × 14 columns</p>\n",
       "</div>"
      ],
      "text/plain": [
       "       ID  Gender    Age  Class  Major  Grad Intention    GPA  Employment  \\\n",
       "0   False   False  False  False  False           False  False       False   \n",
       "1   False   False  False  False  False           False  False       False   \n",
       "2   False   False  False  False  False           False  False       False   \n",
       "3   False   False  False  False  False           False  False       False   \n",
       "4   False   False  False  False  False           False  False       False   \n",
       "..    ...     ...    ...    ...    ...             ...    ...         ...   \n",
       "57  False   False  False  False  False           False  False       False   \n",
       "58  False   False  False  False  False           False  False       False   \n",
       "59  False   False  False  False  False           False  False       False   \n",
       "60  False   False  False  False  False           False  False       False   \n",
       "61  False   False  False  False  False           False  False       False   \n",
       "\n",
       "    Salary  Social Networking  Satisfaction  Spending  Computer  Text Messages  \n",
       "0    False              False         False     False     False          False  \n",
       "1    False              False         False     False     False          False  \n",
       "2    False              False         False     False     False          False  \n",
       "3    False              False         False     False     False          False  \n",
       "4    False              False         False     False     False          False  \n",
       "..     ...                ...           ...       ...       ...            ...  \n",
       "57   False              False         False     False     False          False  \n",
       "58   False              False         False     False     False          False  \n",
       "59   False              False         False     False     False          False  \n",
       "60   False              False         False     False     False          False  \n",
       "61   False              False         False     False     False          False  \n",
       "\n",
       "[62 rows x 14 columns]"
      ]
     },
     "execution_count": 12,
     "metadata": {},
     "output_type": "execute_result"
    }
   ],
   "source": [
    "df.isnull() ##  Complete the code to check the missing values in the dataset"
   ]
  },
  {
   "cell_type": "markdown",
   "id": "f4fce9bc",
   "metadata": {
    "id": "f4fce9bc"
   },
   "source": [
    "### Let's check the statistical summary of the data"
   ]
  },
  {
   "cell_type": "code",
   "execution_count": 13,
   "id": "3f8e8869",
   "metadata": {
    "id": "3f8e8869"
   },
   "outputs": [
    {
     "data": {
      "text/html": [
       "<div>\n",
       "<style scoped>\n",
       "    .dataframe tbody tr th:only-of-type {\n",
       "        vertical-align: middle;\n",
       "    }\n",
       "\n",
       "    .dataframe tbody tr th {\n",
       "        vertical-align: top;\n",
       "    }\n",
       "\n",
       "    .dataframe thead th {\n",
       "        text-align: right;\n",
       "    }\n",
       "</style>\n",
       "<table border=\"1\" class=\"dataframe\">\n",
       "  <thead>\n",
       "    <tr style=\"text-align: right;\">\n",
       "      <th></th>\n",
       "      <th>ID</th>\n",
       "      <th>Age</th>\n",
       "      <th>GPA</th>\n",
       "      <th>Salary</th>\n",
       "      <th>Social Networking</th>\n",
       "      <th>Satisfaction</th>\n",
       "      <th>Spending</th>\n",
       "      <th>Text Messages</th>\n",
       "    </tr>\n",
       "  </thead>\n",
       "  <tbody>\n",
       "    <tr>\n",
       "      <th>count</th>\n",
       "      <td>62.000000</td>\n",
       "      <td>62.000000</td>\n",
       "      <td>62.000000</td>\n",
       "      <td>62.000000</td>\n",
       "      <td>62.000000</td>\n",
       "      <td>62.000000</td>\n",
       "      <td>62.000000</td>\n",
       "      <td>62.000000</td>\n",
       "    </tr>\n",
       "    <tr>\n",
       "      <th>mean</th>\n",
       "      <td>31.500000</td>\n",
       "      <td>21.129032</td>\n",
       "      <td>3.129032</td>\n",
       "      <td>48.548387</td>\n",
       "      <td>1.516129</td>\n",
       "      <td>3.741935</td>\n",
       "      <td>482.016129</td>\n",
       "      <td>246.209677</td>\n",
       "    </tr>\n",
       "    <tr>\n",
       "      <th>std</th>\n",
       "      <td>18.041619</td>\n",
       "      <td>1.431311</td>\n",
       "      <td>0.377388</td>\n",
       "      <td>12.080912</td>\n",
       "      <td>0.844305</td>\n",
       "      <td>1.213793</td>\n",
       "      <td>221.953805</td>\n",
       "      <td>214.465950</td>\n",
       "    </tr>\n",
       "    <tr>\n",
       "      <th>min</th>\n",
       "      <td>1.000000</td>\n",
       "      <td>18.000000</td>\n",
       "      <td>2.300000</td>\n",
       "      <td>25.000000</td>\n",
       "      <td>0.000000</td>\n",
       "      <td>1.000000</td>\n",
       "      <td>100.000000</td>\n",
       "      <td>0.000000</td>\n",
       "    </tr>\n",
       "    <tr>\n",
       "      <th>25%</th>\n",
       "      <td>16.250000</td>\n",
       "      <td>20.000000</td>\n",
       "      <td>2.900000</td>\n",
       "      <td>40.000000</td>\n",
       "      <td>1.000000</td>\n",
       "      <td>3.000000</td>\n",
       "      <td>312.500000</td>\n",
       "      <td>100.000000</td>\n",
       "    </tr>\n",
       "    <tr>\n",
       "      <th>50%</th>\n",
       "      <td>31.500000</td>\n",
       "      <td>21.000000</td>\n",
       "      <td>3.150000</td>\n",
       "      <td>50.000000</td>\n",
       "      <td>1.000000</td>\n",
       "      <td>4.000000</td>\n",
       "      <td>500.000000</td>\n",
       "      <td>200.000000</td>\n",
       "    </tr>\n",
       "    <tr>\n",
       "      <th>75%</th>\n",
       "      <td>46.750000</td>\n",
       "      <td>22.000000</td>\n",
       "      <td>3.400000</td>\n",
       "      <td>55.000000</td>\n",
       "      <td>2.000000</td>\n",
       "      <td>4.000000</td>\n",
       "      <td>600.000000</td>\n",
       "      <td>300.000000</td>\n",
       "    </tr>\n",
       "    <tr>\n",
       "      <th>max</th>\n",
       "      <td>62.000000</td>\n",
       "      <td>26.000000</td>\n",
       "      <td>3.900000</td>\n",
       "      <td>80.000000</td>\n",
       "      <td>4.000000</td>\n",
       "      <td>6.000000</td>\n",
       "      <td>1400.000000</td>\n",
       "      <td>900.000000</td>\n",
       "    </tr>\n",
       "  </tbody>\n",
       "</table>\n",
       "</div>"
      ],
      "text/plain": [
       "              ID        Age        GPA     Salary  Social Networking  \\\n",
       "count  62.000000  62.000000  62.000000  62.000000          62.000000   \n",
       "mean   31.500000  21.129032   3.129032  48.548387           1.516129   \n",
       "std    18.041619   1.431311   0.377388  12.080912           0.844305   \n",
       "min     1.000000  18.000000   2.300000  25.000000           0.000000   \n",
       "25%    16.250000  20.000000   2.900000  40.000000           1.000000   \n",
       "50%    31.500000  21.000000   3.150000  50.000000           1.000000   \n",
       "75%    46.750000  22.000000   3.400000  55.000000           2.000000   \n",
       "max    62.000000  26.000000   3.900000  80.000000           4.000000   \n",
       "\n",
       "       Satisfaction     Spending  Text Messages  \n",
       "count     62.000000    62.000000      62.000000  \n",
       "mean       3.741935   482.016129     246.209677  \n",
       "std        1.213793   221.953805     214.465950  \n",
       "min        1.000000   100.000000       0.000000  \n",
       "25%        3.000000   312.500000     100.000000  \n",
       "50%        4.000000   500.000000     200.000000  \n",
       "75%        4.000000   600.000000     300.000000  \n",
       "max        6.000000  1400.000000     900.000000  "
      ]
     },
     "execution_count": 13,
     "metadata": {},
     "output_type": "execute_result"
    }
   ],
   "source": [
    "df.describe() ##  Complete the code to print the statistical summary of the data"
   ]
  },
  {
   "cell_type": "markdown",
   "id": "7200d990",
   "metadata": {
    "id": "7200d990"
   },
   "source": [
    "## 1. What is the probability that a randomly selected CMSU student will be male?"
   ]
  },
  {
   "cell_type": "code",
   "execution_count": 20,
   "id": "2ceffca5",
   "metadata": {
    "id": "2ceffca5"
   },
   "outputs": [
    {
     "name": "stdout",
     "output_type": "stream",
     "text": [
      "29\n"
     ]
    }
   ],
   "source": [
    "No_of_male = (df['Gender'] == 'Male') ##  Complete the code to find the number of Male Students in the CMSU Dataset\n",
    "print(No_of_male.sum())"
   ]
  },
  {
   "cell_type": "code",
   "execution_count": 21,
   "id": "d37cee87",
   "metadata": {
    "id": "d37cee87"
   },
   "outputs": [
    {
     "name": "stdout",
     "output_type": "stream",
     "text": [
      "62\n"
     ]
    }
   ],
   "source": [
    "Total_value =df['Gender'].value_counts().sum() ##  Complete the code to find the total number of students in the CMSU Dataset\n",
    "print(Total_value)"
   ]
  },
  {
   "cell_type": "code",
   "execution_count": 22,
   "id": "e700b9ae",
   "metadata": {
    "id": "e700b9ae"
   },
   "outputs": [
    {
     "name": "stdout",
     "output_type": "stream",
     "text": [
      "The probability that a randomly selected CMSU student will be a male is: 0     0.000000\n",
      "1     1.612903\n",
      "2     1.612903\n",
      "3     1.612903\n",
      "4     1.612903\n",
      "        ...   \n",
      "57    0.000000\n",
      "58    0.000000\n",
      "59    0.000000\n",
      "60    0.000000\n",
      "61    0.000000\n",
      "Name: Gender, Length: 62, dtype: float64\n"
     ]
    }
   ],
   "source": [
    "p_male = No_of_male/Total_value\n",
    "\n",
    "print('The probability that a randomly selected CMSU student will be a male is:',(p_male)*100)"
   ]
  },
  {
   "cell_type": "markdown",
   "id": "f85f502e",
   "metadata": {
    "id": "f85f502e"
   },
   "source": [
    "### 2. What is the probability that a randomly selected CMSU student will be female?"
   ]
  },
  {
   "cell_type": "code",
   "execution_count": 25,
   "id": "79338b2a",
   "metadata": {
    "id": "79338b2a"
   },
   "outputs": [
    {
     "name": "stdout",
     "output_type": "stream",
     "text": [
      "33\n"
     ]
    }
   ],
   "source": [
    "No_of_female = (df['Gender'] =='Female') ##  Complete the code to find the number of Female Students in the CMSU Dataset\n",
    "print(No_of_female.sum())"
   ]
  },
  {
   "cell_type": "code",
   "execution_count": 26,
   "id": "fcdcfcdb",
   "metadata": {
    "id": "fcdcfcdb"
   },
   "outputs": [
    {
     "name": "stdout",
     "output_type": "stream",
     "text": [
      "The probability that a randomly selected CMSU student will be a female is: 0     1.612903\n",
      "1     0.000000\n",
      "2     0.000000\n",
      "3     0.000000\n",
      "4     0.000000\n",
      "        ...   \n",
      "57    1.612903\n",
      "58    1.612903\n",
      "59    1.612903\n",
      "60    1.612903\n",
      "61    1.612903\n",
      "Name: Gender, Length: 62, dtype: float64\n"
     ]
    }
   ],
   "source": [
    "p_female= No_of_female/Total_value\n",
    "\n",
    "print('The probability that a randomly selected CMSU student will be a female is:',(p_female)*100)"
   ]
  },
  {
   "cell_type": "markdown",
   "id": "624c51ca",
   "metadata": {
    "id": "624c51ca"
   },
   "source": [
    "### 3. What is the conditional probability of different majors among the male students in CMSU?"
   ]
  },
  {
   "cell_type": "code",
   "execution_count": 27,
   "id": "487eb0c8",
   "metadata": {
    "id": "487eb0c8"
   },
   "outputs": [
    {
     "name": "stdout",
     "output_type": "stream",
     "text": [
      "Conditional Probability of Different Majors among Male Students in CMSU:\n",
      "col_0                      count\n",
      "Major                           \n",
      "Management              0.206897\n",
      "Retailing/Marketing     0.172414\n",
      "Accounting              0.137931\n",
      "Economics/Finance       0.137931\n",
      "Other                   0.137931\n",
      "Undecided               0.103448\n",
      "International Business  0.068966\n",
      "CIS                     0.034483\n"
     ]
    }
   ],
   "source": [
    "male_majors = pd.crosstab(df[df['Gender'] == 'Male']['Major'], columns='count')\n",
    "male_majors_conditional = male_majors / male_majors.sum()\n",
    "male_majors_conditional = male_majors_conditional.sort_values(by='count', ascending=False)\n",
    "\n",
    "print(\"Conditional Probability of Different Majors among Male Students in CMSU:\")\n",
    "print(male_majors_conditional)"
   ]
  },
  {
   "cell_type": "markdown",
   "id": "f9568dbb",
   "metadata": {
    "id": "f9568dbb"
   },
   "source": [
    "### 4. What is the conditional probability of different majors among the female students of CMSU?"
   ]
  },
  {
   "cell_type": "code",
   "execution_count": 31,
   "id": "24f48ae9",
   "metadata": {
    "id": "24f48ae9"
   },
   "outputs": [
    {
     "name": "stdout",
     "output_type": "stream",
     "text": [
      "Conditional Probability of Different Majors among Female Students in CMSU:\n",
      "col_0                      count\n",
      "Major                           \n",
      "Retailing/Marketing     0.272727\n",
      "Economics/Finance       0.212121\n",
      "International Business  0.121212\n",
      "Management              0.121212\n",
      "Accounting              0.090909\n",
      "CIS                     0.090909\n",
      "Other                   0.090909\n"
     ]
    }
   ],
   "source": [
    "female_majors = pd.crosstab(df[df['Gender'] == 'Female']['Major'], columns='count')\n",
    "female_majors_conditional = female_majors / female_majors.sum()\n",
    "female_majors_conditional = female_majors_conditional.sort_values(by='count', ascending=False)\n",
    "\n",
    "print(\"Conditional Probability of Different Majors among Female Students in CMSU:\")\n",
    "print(female_majors_conditional)"
   ]
  },
  {
   "cell_type": "markdown",
   "id": "7d521123",
   "metadata": {
    "id": "7d521123"
   },
   "source": [
    "### 5. What is the probability That a randomly chosen student is a male and intends to graduate?"
   ]
  },
  {
   "cell_type": "code",
   "execution_count": 37,
   "id": "1d1441a4",
   "metadata": {
    "id": "1d1441a4"
   },
   "outputs": [
    {
     "name": "stdout",
     "output_type": "stream",
     "text": [
      "Probability that a randomly chosen student is a male and intends to graduate: 58.620689655172406\n"
     ]
    }
   ],
   "source": [
    "male_grad_intention = df[df['Gender'] == 'Male']['Grad Intention'].value_counts(normalize=True)['Yes']\n",
    "\n",
    "print(\"Probability that a randomly chosen student is a male and intends to graduate:\", (male_grad_intention)*100)"
   ]
  },
  {
   "cell_type": "markdown",
   "id": "934f73bf",
   "metadata": {
    "id": "934f73bf"
   },
   "source": [
    "### 6. What is the probability that a randomly selected student is a female and does NOT have a laptop?"
   ]
  },
  {
   "cell_type": "code",
   "execution_count": 39,
   "id": "1e599cb3",
   "metadata": {
    "id": "1e599cb3"
   },
   "outputs": [
    {
     "name": "stdout",
     "output_type": "stream",
     "text": [
      "Probability that a randomly selected student is a female and does NOT have a laptop: 12.121212121212121\n"
     ]
    }
   ],
   "source": [
    "female_no_laptop = df[df['Gender'] == 'Female']['Computer'].value_counts(normalize=True)[['Desktop', 'Tablet']].sum()\n",
    "\n",
    "print(\"Probability that a randomly selected student is a female and does NOT have a laptop:\", (female_no_laptop)*100)"
   ]
  },
  {
   "cell_type": "markdown",
   "id": "48a80768",
   "metadata": {
    "id": "48a80768"
   },
   "source": [
    "### 7.  What is the probability that a randomly chosen student is a male or has full-time employment?"
   ]
  },
  {
   "cell_type": "code",
   "execution_count": 40,
   "id": "f58c67e1",
   "metadata": {
    "id": "f58c67e1"
   },
   "outputs": [
    {
     "name": "stdout",
     "output_type": "stream",
     "text": [
      "Probability that a randomly chosen student is a male or has full-time employment: 46.774193548387096\n"
     ]
    }
   ],
   "source": [
    "male_or_fulltime = ((df['Gender'] == 'Male') | (df['Employment'] == 'Part-time''Unemployed')).mean()\n",
    "\n",
    "print(\"Probability that a randomly chosen student is a male or has full-time employment:\", (male_or_fulltime)*100)"
   ]
  },
  {
   "cell_type": "markdown",
   "id": "792f886b",
   "metadata": {
    "id": "792f886b"
   },
   "source": [
    "### 8. What is the conditional probability that given a female student is randomly chosen, she is majoring in international business or management?"
   ]
  },
  {
   "cell_type": "code",
   "execution_count": 42,
   "id": "21618785",
   "metadata": {
    "id": "21618785"
   },
   "outputs": [
    {
     "name": "stdout",
     "output_type": "stream",
     "text": [
      "Conditional probability that given a female student is randomly chosen, she is majoring in international business or management: 0.24242424242424243\n"
     ]
    }
   ],
   "source": [
    "female_international_business_or_management = df[df['Gender'] == 'Female']['Major'].isin(['International Business', 'Management']).mean()\n",
    "\n",
    "print(\"Conditional probability that given a female student is randomly chosen, she is majoring in international business or management:\", female_international_business_or_management)"
   ]
  },
  {
   "cell_type": "markdown",
   "id": "b885bd21",
   "metadata": {
    "id": "b885bd21"
   },
   "source": [
    "### 9. If a student is chosen randomly, what is the probability that his/her GPA is less than 3?"
   ]
  },
  {
   "cell_type": "code",
   "execution_count": 43,
   "id": "756ea5de",
   "metadata": {
    "id": "756ea5de"
   },
   "outputs": [
    {
     "name": "stdout",
     "output_type": "stream",
     "text": [
      "Probability that a randomly chosen student has a GPA less than 3: 27.419354838709676\n"
     ]
    }
   ],
   "source": [
    "prob_gpa_less_than_3 = (df['GPA'] < 3).mean()\n",
    "\n",
    "print(\"Probability that a randomly chosen student has a GPA less than 3:\", (prob_gpa_less_than_3)*100)"
   ]
  },
  {
   "cell_type": "markdown",
   "id": "c157f791",
   "metadata": {
    "id": "c157f791"
   },
   "source": [
    "### 10. What is the conditional probability that a randomly selected male earns 50 or more? "
   ]
  },
  {
   "cell_type": "code",
   "execution_count": 44,
   "id": "5e925a0e",
   "metadata": {
    "id": "5e925a0e"
   },
   "outputs": [
    {
     "name": "stdout",
     "output_type": "stream",
     "text": [
      "Conditional probability that a randomly selected male earns 50 or more: 48.275862068965516\n"
     ]
    }
   ],
   "source": [
    "male_earns_50_or_more = (df[df['Gender'] == 'Male']['Salary'] >= 50).mean()\n",
    "\n",
    "\n",
    "print(\"Conditional probability that a randomly selected male earns 50 or more:\", (male_earns_50_or_more)*100)"
   ]
  },
  {
   "cell_type": "markdown",
   "id": "0e8ebe7e",
   "metadata": {
    "id": "c157f791"
   },
   "source": [
    "### 11. What is the conditional probability that a randomly selected female earns 50 or more? "
   ]
  },
  {
   "cell_type": "code",
   "execution_count": 45,
   "id": "db938bfb",
   "metadata": {
    "id": "5e925a0e"
   },
   "outputs": [
    {
     "name": "stdout",
     "output_type": "stream",
     "text": [
      "Conditional probability that a randomly selected female earns 50 or more: 54.54545454545454\n"
     ]
    }
   ],
   "source": [
    "female_earns_50_or_more = (df[df['Gender'] == 'Female']['Salary'] >= 50).mean()\n",
    "\n",
    "print(\"Conditional probability that a randomly selected female earns 50 or more:\", (female_earns_50_or_more)*100)"
   ]
  },
  {
   "cell_type": "markdown",
   "id": "b449d11d",
   "metadata": {
    "id": "b449d11d"
   },
   "source": [
    " ### 12. Are the continuous variables in the data normally distributed? Write a note summarizing your conclusions."
   ]
  },
  {
   "cell_type": "markdown",
   "id": "61ab58d0",
   "metadata": {
    "id": "61ab58d0"
   },
   "source": [
    "We have four numerical variables in the data - GPA, Salary, Spending, and Text Messages.\n",
    "\n",
    "To assess whether they follow a normal distribution, we'll do the following:\n",
    "\n",
    "1. **Visually examine the data distribution and check the skew values**\n",
    "2. **Examine the probability plots**"
   ]
  },
  {
   "cell_type": "markdown",
   "id": "zIOe2ViqybWX",
   "metadata": {
    "id": "zIOe2ViqybWX"
   },
   "source": [
    "**Let us first examine the data distribution and check the skew values.**"
   ]
  },
  {
   "cell_type": "code",
   "execution_count": 46,
   "id": "64876247",
   "metadata": {
    "id": "64876247"
   },
   "outputs": [
    {
     "name": "stdout",
     "output_type": "stream",
     "text": [
      "skew value of GPA is -0.3146000894506981\n",
      "skew value of Salary is 0.5347008436225946\n",
      "skew value of Spending is 1.5859147414045331\n",
      "skew value of Text Message is 1.2958079731054333\n"
     ]
    },
    {
     "data": {
      "image/png": "[encoded data removed]",
      "text/plain": [
       "<Figure size 800x800 with 4 Axes>"
      ]
     },
     "metadata": {},
     "output_type": "display_data"
    }
   ],
   "source": [
    "plt.figure(figsize=[8, 8])\n",
    "\n",
    "plt.subplot(2, 2, 1)\n",
    "sns.distplot(df['GPA'], bins = 10, kde=True, rug= False);\n",
    "print('skew value of GPA is', df['GPA'].skew())\n",
    "\n",
    "plt.subplot(2, 2, 2)\n",
    "sns.distplot(df['Salary'], bins = 10, kde=True, rug= False);\n",
    "print('skew value of Salary is', df['Salary'].skew())\n",
    "\n",
    "\n",
    "plt.subplot(2, 2, 3)\n",
    "sns.distplot(df['Spending'], bins = 10, kde=True, rug= False);\n",
    "print('skew value of Spending is', df['Spending'].skew())\n",
    "\n",
    "\n",
    "plt.subplot(2, 2, 4)\n",
    "sns.distplot(df['Text Messages'], bins = 10, kde=True, rug= False);\n",
    "print('skew value of Text Message is', df['Text Messages'].skew())\n",
    "\n",
    "plt.show()"
   ]
  },
  {
   "cell_type": "markdown",
   "id": "74a1c4a3",
   "metadata": {
    "id": "74a1c4a3"
   },
   "source": [
    "**Now, let us examine the probability plots**"
   ]
  },
  {
   "cell_type": "code",
   "execution_count": 47,
   "id": "74e01fb1",
   "metadata": {
    "id": "74e01fb1"
   },
   "outputs": [
    {
     "data": {
      "image/png": "[encoded data removed]",
      "text/plain": [
       "<Figure size 800x1000 with 4 Axes>"
      ]
     },
     "metadata": {},
     "output_type": "display_data"
    }
   ],
   "source": [
    "plt.figure(figsize=[8, 10])\n",
    "\n",
    "plt.subplot(2, 2, 1)\n",
    "stats.probplot(df['GPA'], plot=plt);\n",
    "\n",
    "\n",
    "plt.subplot(2, 2, 2)\n",
    "stats.probplot(df['Salary'], plot=plt);\n",
    "\n",
    "\n",
    "plt.subplot(2, 2, 3)\n",
    "stats.probplot(df['Spending'], plot=plt);\n",
    "\n",
    "\n",
    "plt.subplot(2, 2, 4)\n",
    "stats.probplot(df['Text Messages'], plot=plt);\n",
    "\n",
    "plt.show()"
   ]
  },
  {
   "cell_type": "markdown",
   "id": "gI4jcPwd0oWZ",
   "metadata": {
    "id": "gI4jcPwd0oWZ"
   },
   "source": [
    "*Write down the conclusions here*"
   ]
  },
  {
   "cell_type": "markdown",
   "id": "4f500696",
   "metadata": {
    "id": "4f500696"
   },
   "source": [
    "# Problem Statement 2"
   ]
  },
  {
   "cell_type": "markdown",
   "id": "B84DxiCBiV5X",
   "metadata": {
    "id": "B84DxiCBiV5X"
   },
   "source": [
    "## Business Context"
   ]
  },
  {
   "cell_type": "markdown",
   "id": "69071440",
   "metadata": {
    "id": "69071440"
   },
   "source": [
    "An important quality characteristic used by the manufacturers of ABC asphalt shingles is the amount of moisture the shingles contain when they are packaged. Customers may feel that they have purchased a product lacking in quality if they find moisture and wet shingles inside the packaging.   In some cases, excessive moisture can cause the granules attached to the shingles for texture and coloring purposes to fall off the shingles resulting in appearance problems. To monitor the amount of moisture present, the company conducts moisture tests. A shingle is weighed and then dried. The shingle is then reweighed, and based on the amount of moisture taken out of the product, the pounds of moisture per 100 square feet is calculated. The company would like to show that the mean moisture content is less than 0.35 pounds per 100 square feet."
   ]
  },
  {
   "cell_type": "markdown",
   "id": "zb3muou3ie0e",
   "metadata": {
    "id": "zb3muou3ie0e"
   },
   "source": [
    "## Objective"
   ]
  },
  {
   "cell_type": "markdown",
   "id": "943b52a7",
   "metadata": {
    "id": "943b52a7"
   },
   "source": [
    "Based on the above context, the manufacturer wants to understand the following:\n",
    "\n",
    "1. Is there any evidence that mean moisture content in both types of shingles are within the permissible limits?\n",
    "\n",
    "2. Is the population mean for shingles A and B are equal?\n",
    "\n",
    "Use the relevant statistical tests to answer the above questions and state your conclusions along with all necessary steps.\n",
    "\n",
    "**Hint**:\n",
    "* Use the test for equality of means for the second question\n"
   ]
  },
  {
   "cell_type": "markdown",
   "id": "ccf6ee4b",
   "metadata": {
    "id": "ccf6ee4b"
   },
   "source": [
    "## Importing necessary libraries"
   ]
  },
  {
   "cell_type": "code",
   "execution_count": 48,
   "id": "0e4a3282",
   "metadata": {
    "id": "0e4a3282"
   },
   "outputs": [],
   "source": [
    "import numpy as np\n",
    "import pandas as pd\n",
    "import matplotlib.pyplot as plt\n",
    "%matplotlib inline\n",
    "import seaborn as sns\n",
    "import scipy.stats as stats\n",
    "from   scipy.stats               import ttest_1samp, ttest_ind\n",
    "import statsmodels.stats.api as sm"
   ]
  },
  {
   "cell_type": "markdown",
   "id": "d013f9c1",
   "metadata": {
    "id": "d013f9c1"
   },
   "source": [
    "## Importing Dataset"
   ]
  },
  {
   "cell_type": "code",
   "execution_count": 50,
   "id": "cc169f60",
   "metadata": {
    "id": "cc169f60"
   },
   "outputs": [],
   "source": [
    "df1= pd.read_csv(\"C:/Users/mechs/OneDrive/Desktop/AS EXTENDED PROJECT/A+&+B+shingles.csv\") ##  Fill the blank to read the data"
   ]
  },
  {
   "cell_type": "markdown",
   "id": "d52bd689",
   "metadata": {
    "id": "d52bd689"
   },
   "source": [
    "## Overview of the Dataset"
   ]
  },
  {
   "cell_type": "markdown",
   "id": "e11427a6",
   "metadata": {
    "id": "e11427a6"
   },
   "source": [
    "### View the first and last 5 rows of the dataset"
   ]
  },
  {
   "cell_type": "code",
   "execution_count": 52,
   "id": "3ef33a27",
   "metadata": {
    "id": "3ef33a27"
   },
   "outputs": [
    {
     "data": {
      "text/html": [
       "<div>\n",
       "<style scoped>\n",
       "    .dataframe tbody tr th:only-of-type {\n",
       "        vertical-align: middle;\n",
       "    }\n",
       "\n",
       "    .dataframe tbody tr th {\n",
       "        vertical-align: top;\n",
       "    }\n",
       "\n",
       "    .dataframe thead th {\n",
       "        text-align: right;\n",
       "    }\n",
       "</style>\n",
       "<table border=\"1\" class=\"dataframe\">\n",
       "  <thead>\n",
       "    <tr style=\"text-align: right;\">\n",
       "      <th></th>\n",
       "      <th>A</th>\n",
       "      <th>B</th>\n",
       "    </tr>\n",
       "  </thead>\n",
       "  <tbody>\n",
       "    <tr>\n",
       "      <th>0</th>\n",
       "      <td>0.44</td>\n",
       "      <td>0.14</td>\n",
       "    </tr>\n",
       "    <tr>\n",
       "      <th>1</th>\n",
       "      <td>0.61</td>\n",
       "      <td>0.15</td>\n",
       "    </tr>\n",
       "    <tr>\n",
       "      <th>2</th>\n",
       "      <td>0.47</td>\n",
       "      <td>0.31</td>\n",
       "    </tr>\n",
       "    <tr>\n",
       "      <th>3</th>\n",
       "      <td>0.30</td>\n",
       "      <td>0.16</td>\n",
       "    </tr>\n",
       "    <tr>\n",
       "      <th>4</th>\n",
       "      <td>0.15</td>\n",
       "      <td>0.37</td>\n",
       "    </tr>\n",
       "  </tbody>\n",
       "</table>\n",
       "</div>"
      ],
      "text/plain": [
       "      A     B\n",
       "0  0.44  0.14\n",
       "1  0.61  0.15\n",
       "2  0.47  0.31\n",
       "3  0.30  0.16\n",
       "4  0.15  0.37"
      ]
     },
     "execution_count": 52,
     "metadata": {},
     "output_type": "execute_result"
    }
   ],
   "source": [
    "df1.head() ##  Complete the code to view top 5 rows of the data"
   ]
  },
  {
   "cell_type": "code",
   "execution_count": 53,
   "id": "749c32fb",
   "metadata": {
    "id": "749c32fb"
   },
   "outputs": [
    {
     "data": {
      "text/html": [
       "<div>\n",
       "<style scoped>\n",
       "    .dataframe tbody tr th:only-of-type {\n",
       "        vertical-align: middle;\n",
       "    }\n",
       "\n",
       "    .dataframe tbody tr th {\n",
       "        vertical-align: top;\n",
       "    }\n",
       "\n",
       "    .dataframe thead th {\n",
       "        text-align: right;\n",
       "    }\n",
       "</style>\n",
       "<table border=\"1\" class=\"dataframe\">\n",
       "  <thead>\n",
       "    <tr style=\"text-align: right;\">\n",
       "      <th></th>\n",
       "      <th>A</th>\n",
       "      <th>B</th>\n",
       "    </tr>\n",
       "  </thead>\n",
       "  <tbody>\n",
       "    <tr>\n",
       "      <th>31</th>\n",
       "      <td>0.40</td>\n",
       "      <td>NaN</td>\n",
       "    </tr>\n",
       "    <tr>\n",
       "      <th>32</th>\n",
       "      <td>0.29</td>\n",
       "      <td>NaN</td>\n",
       "    </tr>\n",
       "    <tr>\n",
       "      <th>33</th>\n",
       "      <td>0.43</td>\n",
       "      <td>NaN</td>\n",
       "    </tr>\n",
       "    <tr>\n",
       "      <th>34</th>\n",
       "      <td>0.34</td>\n",
       "      <td>NaN</td>\n",
       "    </tr>\n",
       "    <tr>\n",
       "      <th>35</th>\n",
       "      <td>0.37</td>\n",
       "      <td>NaN</td>\n",
       "    </tr>\n",
       "  </tbody>\n",
       "</table>\n",
       "</div>"
      ],
      "text/plain": [
       "       A   B\n",
       "31  0.40 NaN\n",
       "32  0.29 NaN\n",
       "33  0.43 NaN\n",
       "34  0.34 NaN\n",
       "35  0.37 NaN"
      ]
     },
     "execution_count": 53,
     "metadata": {},
     "output_type": "execute_result"
    }
   ],
   "source": [
    "df1.tail() ##  Complete the code to view last 5 rows of the data"
   ]
  },
  {
   "cell_type": "markdown",
   "id": "4374cc9c",
   "metadata": {
    "id": "4374cc9c"
   },
   "source": [
    "### Understand the shape of the dataset"
   ]
  },
  {
   "cell_type": "code",
   "execution_count": 55,
   "id": "90c309ce",
   "metadata": {
    "id": "90c309ce"
   },
   "outputs": [
    {
     "data": {
      "text/plain": [
       "(36, 2)"
      ]
     },
     "execution_count": 55,
     "metadata": {},
     "output_type": "execute_result"
    }
   ],
   "source": [
    "df1.shape ##  Complete the code to view dimensions of the data"
   ]
  },
  {
   "cell_type": "markdown",
   "id": "d4317372",
   "metadata": {
    "id": "d4317372"
   },
   "source": [
    "### Check the data types of the columns for the dataset"
   ]
  },
  {
   "cell_type": "code",
   "execution_count": 58,
   "id": "e6f90e51",
   "metadata": {
    "id": "e6f90e51"
   },
   "outputs": [
    {
     "data": {
      "text/plain": [
       "A    float64\n",
       "B    float64\n",
       "dtype: object"
      ]
     },
     "execution_count": 58,
     "metadata": {},
     "output_type": "execute_result"
    }
   ],
   "source": [
    "df1.dtypes ##  Complete the code to Check the data types of the columns for the dataset"
   ]
  },
  {
   "cell_type": "markdown",
   "id": "c395bd02",
   "metadata": {
    "id": "c395bd02"
   },
   "source": [
    "### Check the missing values in the dataset"
   ]
  },
  {
   "cell_type": "code",
   "execution_count": 66,
   "id": "0d74dfb1",
   "metadata": {
    "id": "0d74dfb1"
   },
   "outputs": [
    {
     "data": {
      "text/plain": [
       "A    0\n",
       "B    5\n",
       "dtype: int64"
      ]
     },
     "execution_count": 66,
     "metadata": {},
     "output_type": "execute_result"
    }
   ],
   "source": [
    "df1.isnull().sum() ##  Complete the code to Check the missing values in the dataset"
   ]
  },
  {
   "cell_type": "markdown",
   "id": "fd89c592",
   "metadata": {
    "id": "fd89c592"
   },
   "source": [
    "### Let's check the statistical summary of the data"
   ]
  },
  {
   "cell_type": "code",
   "execution_count": 68,
   "id": "f058dcf5",
   "metadata": {
    "id": "f058dcf5"
   },
   "outputs": [
    {
     "data": {
      "text/html": [
       "<div>\n",
       "<style scoped>\n",
       "    .dataframe tbody tr th:only-of-type {\n",
       "        vertical-align: middle;\n",
       "    }\n",
       "\n",
       "    .dataframe tbody tr th {\n",
       "        vertical-align: top;\n",
       "    }\n",
       "\n",
       "    .dataframe thead th {\n",
       "        text-align: right;\n",
       "    }\n",
       "</style>\n",
       "<table border=\"1\" class=\"dataframe\">\n",
       "  <thead>\n",
       "    <tr style=\"text-align: right;\">\n",
       "      <th></th>\n",
       "      <th>A</th>\n",
       "      <th>B</th>\n",
       "    </tr>\n",
       "  </thead>\n",
       "  <tbody>\n",
       "    <tr>\n",
       "      <th>count</th>\n",
       "      <td>36.000000</td>\n",
       "      <td>31.000000</td>\n",
       "    </tr>\n",
       "    <tr>\n",
       "      <th>mean</th>\n",
       "      <td>0.316667</td>\n",
       "      <td>0.273548</td>\n",
       "    </tr>\n",
       "    <tr>\n",
       "      <th>std</th>\n",
       "      <td>0.135731</td>\n",
       "      <td>0.137296</td>\n",
       "    </tr>\n",
       "    <tr>\n",
       "      <th>min</th>\n",
       "      <td>0.130000</td>\n",
       "      <td>0.100000</td>\n",
       "    </tr>\n",
       "    <tr>\n",
       "      <th>25%</th>\n",
       "      <td>0.207500</td>\n",
       "      <td>0.160000</td>\n",
       "    </tr>\n",
       "    <tr>\n",
       "      <th>50%</th>\n",
       "      <td>0.290000</td>\n",
       "      <td>0.230000</td>\n",
       "    </tr>\n",
       "    <tr>\n",
       "      <th>75%</th>\n",
       "      <td>0.392500</td>\n",
       "      <td>0.400000</td>\n",
       "    </tr>\n",
       "    <tr>\n",
       "      <th>max</th>\n",
       "      <td>0.720000</td>\n",
       "      <td>0.580000</td>\n",
       "    </tr>\n",
       "  </tbody>\n",
       "</table>\n",
       "</div>"
      ],
      "text/plain": [
       "               A          B\n",
       "count  36.000000  31.000000\n",
       "mean    0.316667   0.273548\n",
       "std     0.135731   0.137296\n",
       "min     0.130000   0.100000\n",
       "25%     0.207500   0.160000\n",
       "50%     0.290000   0.230000\n",
       "75%     0.392500   0.400000\n",
       "max     0.720000   0.580000"
      ]
     },
     "execution_count": 68,
     "metadata": {},
     "output_type": "execute_result"
    }
   ],
   "source": [
    "df1.describe() ##  Complete the code to Check the statistical summary of the data"
   ]
  },
  {
   "cell_type": "markdown",
   "id": "ba6863f6",
   "metadata": {
    "id": "ba6863f6"
   },
   "source": [
    "## 1. Is there any evidence that mean moisture content in both types of shingles are within the permissible limits?"
   ]
  },
  {
   "cell_type": "markdown",
   "id": "dr6kfXTFT31f",
   "metadata": {
    "id": "dr6kfXTFT31f"
   },
   "source": [
    "### Sample A"
   ]
  },
  {
   "cell_type": "markdown",
   "id": "77103801",
   "metadata": {
    "id": "77103801"
   },
   "source": [
    "#### Step 1: Define null and alternate hypotheses"
   ]
  },
  {
   "cell_type": "markdown",
   "id": "70ce5b8b",
   "metadata": {
    "id": "70ce5b8b"
   },
   "source": [
    "Testing whether the moisture content is less the permissible limit\n",
    "\n",
    "The null hypothesis states that the moisture content of sample A is greater or than equal to the permissible limit of 0.35\n",
    "\n",
    "$$𝐻_0 : \\mu \\geq 0.35$$\n",
    "\n",
    "The alternative hypothesis states that the moisture content of sample A is less than permissible limit.\n",
    "\n",
    "$$𝐻_𝐴 : \\mu < 0.35$$"
   ]
  },
  {
   "cell_type": "markdown",
   "id": "76cf5132",
   "metadata": {
    "id": "76cf5132"
   },
   "source": [
    "#### Step 2: Decide the significance level"
   ]
  },
  {
   "cell_type": "markdown",
   "id": "62679aba",
   "metadata": {
    "id": "62679aba"
   },
   "source": [
    "Here we select 𝛼 = 0.05 as given in the question."
   ]
  },
  {
   "cell_type": "markdown",
   "id": "35837567",
   "metadata": {
    "id": "35837567"
   },
   "source": [
    "#### Step 3: Identify the test statistic"
   ]
  },
  {
   "cell_type": "markdown",
   "id": "6c4f6309",
   "metadata": {
    "id": "6c4f6309"
   },
   "source": [
    "We have two samples (A and B) and we do not know the population standard deviation. Sample sizes for both samples are not the same. The sample size is , n > 30. So we use the t distribution and the 𝑡𝑆𝑇𝐴𝑇 test statistic for one sample test for A sample. One tail test for sample A"
   ]
  },
  {
   "cell_type": "markdown",
   "id": "19f2a71e",
   "metadata": {
    "id": "19f2a71e"
   },
   "source": [
    "#### Step 4: Calculate the p - value and test statistic"
   ]
  },
  {
   "cell_type": "code",
   "execution_count": 69,
   "id": "673cd593",
   "metadata": {
    "id": "673cd593"
   },
   "outputs": [
    {
     "name": "stdout",
     "output_type": "stream",
     "text": [
      "tstat -1.4735046253382782\n",
      "P Value 0.07477633144907513\n"
     ]
    }
   ],
   "source": [
    "t_statistic, p_value = ttest_1samp(df1['A'],0.35, nan_policy='omit')\n",
    "print('tstat',t_statistic)\n",
    "print('P Value',p_value/2)"
   ]
  },
  {
   "cell_type": "markdown",
   "id": "abc41416",
   "metadata": {
    "id": "abc41416"
   },
   "source": [
    "#### Step 5: Decide to reject or accept null hypothesis"
   ]
  },
  {
   "cell_type": "code",
   "execution_count": 70,
   "id": "ccd716ae",
   "metadata": {
    "id": "ccd716ae"
   },
   "outputs": [
    {
     "name": "stdout",
     "output_type": "stream",
     "text": [
      "one-sample t-test p-value= 0.07477633144907513\n",
      "We do not have enough evidence to reject the null hypothesis in favour of alternative hypothesis\n",
      "We conclude that the moisture content is greater than permissible limit in sample A.\n"
     ]
    }
   ],
   "source": [
    "print (\"one-sample t-test p-value=\", p_value/2)\n",
    "\n",
    "alpha_level = 0.05\n",
    "\n",
    "if (p_value/2) < alpha_level:\n",
    "    print('We have enough evidence to reject the null hypothesis in favour of alternative hypothesis')\n",
    "\n",
    "else:\n",
    "    print('We do not have enough evidence to reject the null hypothesis in favour of alternative hypothesis')\n",
    "    print('We conclude that the moisture content is greater than permissible limit in sample A.')"
   ]
  },
  {
   "cell_type": "markdown",
   "id": "d4ab5409",
   "metadata": {
    "id": "d4ab5409"
   },
   "source": [
    "### Define Null and alternate hypothesis for sample B"
   ]
  },
  {
   "cell_type": "markdown",
   "id": "f8bc196c",
   "metadata": {
    "id": "f8bc196c"
   },
   "source": [
    "### Sample B"
   ]
  },
  {
   "cell_type": "markdown",
   "id": "b940e5f5",
   "metadata": {
    "id": "b940e5f5"
   },
   "source": [
    "#### Step 1:"
   ]
  },
  {
   "cell_type": "markdown",
   "id": "d881553d",
   "metadata": {
    "id": "d881553d"
   },
   "source": [
    "Testing whether the moisture content is less the permissible limit\n",
    "\n",
    "The null hypothesis states that the moisture content of sample B is greater or than equal to the permissible limit of 0.35\n",
    "\n",
    "$$𝐻_0 : \\mu \\geq 0.35$$\n",
    "\n",
    "The alternative hypothesis states that the moisture content of sample B is less than permissible limit.\n",
    "\n",
    "$$𝐻_𝐴 : \\mu < 0.35$$"
   ]
  },
  {
   "cell_type": "markdown",
   "id": "2e439c4d",
   "metadata": {
    "id": "2e439c4d"
   },
   "source": [
    "#### Step 2: Decide the significance level"
   ]
  },
  {
   "cell_type": "markdown",
   "id": "ca191624",
   "metadata": {
    "id": "ca191624"
   },
   "source": [
    "Here we select 𝛼 = 0.05 as given in the question."
   ]
  },
  {
   "cell_type": "markdown",
   "id": "5ebe72f3",
   "metadata": {
    "id": "5ebe72f3"
   },
   "source": [
    "#### Step 3: Identify the test statistic"
   ]
  },
  {
   "cell_type": "markdown",
   "id": "ae778909",
   "metadata": {
    "id": "ae778909"
   },
   "source": [
    "We have two samples (A and B) and we do not know the population standard deviation. Sample sizes for both samples are not the same. The sample size is , n > 30. So we use the t distribution and the 𝑡𝑆𝑇𝐴𝑇 test statistic for one sample test for B sample. one tail test for Sample B"
   ]
  },
  {
   "cell_type": "markdown",
   "id": "b0a01fd3",
   "metadata": {
    "id": "b0a01fd3"
   },
   "source": [
    "#### Step 4: Calculate the p - value and test statistic"
   ]
  },
  {
   "cell_type": "code",
   "execution_count": 71,
   "id": "d2eb6093",
   "metadata": {
    "id": "d2eb6093"
   },
   "outputs": [
    {
     "name": "stdout",
     "output_type": "stream",
     "text": [
      "tstat -3.1003313069986995\n",
      "P Value 0.0020904774003191813\n"
     ]
    }
   ],
   "source": [
    "t_statistic, p_value = ttest_1samp(df1['B'],0.35, nan_policy='omit')\n",
    "print('tstat',t_statistic)\n",
    "print('P Value',p_value/2)"
   ]
  },
  {
   "cell_type": "markdown",
   "id": "a9d255c5",
   "metadata": {
    "id": "a9d255c5"
   },
   "source": [
    "#### Step 5: Decide to reject or accept null hypothesis"
   ]
  },
  {
   "cell_type": "code",
   "execution_count": 72,
   "id": "69088878",
   "metadata": {
    "id": "69088878"
   },
   "outputs": [
    {
     "name": "stdout",
     "output_type": "stream",
     "text": [
      "one-sample t-test p-value= 0.0020904774003191813\n",
      "We have enough evidence to reject the null hypothesis in favour of alternative hypothesis\n",
      "We conclude that the moisture content is less than permissible limit in sample B.\n"
     ]
    }
   ],
   "source": [
    "print (\"one-sample t-test p-value=\", p_value/2)\n",
    "\n",
    "alpha_level = 0.05\n",
    "\n",
    "if (p_value/2) < alpha_level:\n",
    "    print('We have enough evidence to reject the null hypothesis in favour of alternative hypothesis')\n",
    "    print('We conclude that the moisture content is less than permissible limit in sample B.')\n",
    "\n",
    "else:\n",
    "    print('We do not have enough evidence to reject the null hypothesis in favour of alternative hypothesis')"
   ]
  },
  {
   "cell_type": "markdown",
   "id": "cb7fb842",
   "metadata": {
    "id": "cb7fb842"
   },
   "source": [
    "## 2.Is the population mean for shingles A and B are equal?"
   ]
  },
  {
   "cell_type": "markdown",
   "id": "c3d22e83",
   "metadata": {
    "id": "c3d22e83"
   },
   "source": [
    "#### Step 1:"
   ]
  },
  {
   "cell_type": "markdown",
   "id": "b6dd11a7",
   "metadata": {
    "id": "b6dd11a7"
   },
   "source": [
    "#### Define Null and alternate hypothesis"
   ]
  },
  {
   "cell_type": "markdown",
   "id": "39817f84",
   "metadata": {
    "id": "39817f84"
   },
   "source": [
    "The null hypothesis (H0) for sample B would be:\n",
    "\n",
    "H0: μB ≥ 0.35\n",
    "\n",
    "This means that the population mean moisture content for sample B is greater than or equal to the permissible limit of 0.35 pounds per 100 square feet.\n",
    "\n",
    "The alternate hypothesis (Ha) for sample B would be:\n",
    "\n",
    "Ha: μB < 0.35\n",
    "\n",
    "This means that the population mean moisture content for sample B is less than the permissible limit of 0.35 pounds per 100 square feet.\n"
   ]
  },
  {
   "cell_type": "markdown",
   "id": "bb87c5f8",
   "metadata": {
    "id": "bb87c5f8"
   },
   "source": [
    "#### Step 2: Decide the significance level"
   ]
  },
  {
   "cell_type": "markdown",
   "id": "05855818",
   "metadata": {
    "id": "05855818"
   },
   "source": [
    "Here we select 𝛼 = 0.05 as the population standard deviation is not known."
   ]
  },
  {
   "cell_type": "markdown",
   "id": "7001b31a",
   "metadata": {
    "id": "7001b31a"
   },
   "source": [
    "#### Step 3: Identify the test statistic"
   ]
  },
  {
   "cell_type": "markdown",
   "id": "19937ed9",
   "metadata": {
    "id": "19937ed9"
   },
   "source": [
    "We have two samples and we do not know the population standard deviation. Sample sizes for both samples are not the same. The sample size is , n > 30. So we use the t distribution and the 𝑡𝑆𝑇𝐴𝑇 test statistic for two sample test."
   ]
  },
  {
   "cell_type": "markdown",
   "id": "b328d8f7",
   "metadata": {
    "id": "b328d8f7"
   },
   "source": [
    "#### Step 4: Calculate the p - value and test statistic"
   ]
  },
  {
   "cell_type": "code",
   "execution_count": 73,
   "id": "15b0ae9c",
   "metadata": {
    "id": "15b0ae9c"
   },
   "outputs": [
    {
     "name": "stdout",
     "output_type": "stream",
     "text": [
      "tstat 1.2896282719661123\n",
      "P Value 0.20174965718353277\n"
     ]
    }
   ],
   "source": [
    "t_statistic, p_value  = ttest_ind(df1['A'],df1['B'],nan_policy='omit')\n",
    "print('tstat',t_statistic)\n",
    "print('P Value',p_value)"
   ]
  },
  {
   "cell_type": "markdown",
   "id": "24387ac3",
   "metadata": {
    "id": "24387ac3"
   },
   "source": [
    "#### Step 5: Decide to reject or accept null hypothesis"
   ]
  },
  {
   "cell_type": "code",
   "execution_count": 74,
   "id": "c5986f36",
   "metadata": {
    "id": "c5986f36"
   },
   "outputs": [
    {
     "name": "stdout",
     "output_type": "stream",
     "text": [
      "two-sample t-test p-value= 0.20174965718353277\n",
      "We do not have enough evidence to reject the null hypothesis in favour of alternative hypothesis\n",
      "We conclude that mean for shingles A and singles B are not the same\n"
     ]
    }
   ],
   "source": [
    "print (\"two-sample t-test p-value=\", p_value)\n",
    "\n",
    "alpha_level = 0.05\n",
    "\n",
    "if p_value < alpha_level:\n",
    "    print('We have enough evidence to reject the null hypothesis in favour of alternative hypothesis')\n",
    "\n",
    "else:\n",
    "    print('We do not have enough evidence to reject the null hypothesis in favour of alternative hypothesis')\n",
    "    print('We conclude that mean for shingles A and singles B are not the same')"
   ]
  },
  {
   "cell_type": "markdown",
   "id": "4a16a5a1",
   "metadata": {
    "id": "4a16a5a1"
   },
   "source": [
    "# Problem Statement 3:"
   ]
  },
  {
   "cell_type": "markdown",
   "id": "vPMwqT4WjORl",
   "metadata": {
    "id": "vPMwqT4WjORl"
   },
   "source": [
    "## Business Context"
   ]
  },
  {
   "cell_type": "markdown",
   "id": "51baf602",
   "metadata": {
    "id": "51baf602"
   },
   "source": [
    "Salary is hypothesized to depend on educational qualification and occupation. To understand the dependency, the salaries of 40 individuals are collected and each person’s educational qualification and occupation are noted. Educational qualification is at three levels, High school graduate, Bachelor's, and Doctorate. Occupation is at four levels, Administrative and clerical, Sales, Professional or specialty, and Executive or managerial. A different number of observations are in each level of education–occupation combination."
   ]
  },
  {
   "cell_type": "markdown",
   "id": "D1BHhbFfjaZF",
   "metadata": {
    "id": "D1BHhbFfjaZF"
   },
   "source": [
    "## Objective"
   ]
  },
  {
   "cell_type": "markdown",
   "id": "97133312",
   "metadata": {
    "id": "97133312"
   },
   "source": [
    "Based on the above context, we want to understand the following:\n",
    "\n",
    "1. Is there any significant difference in salaries among different levels of education?\n",
    "2. Is there any significant difference in salaries among different levels of  different occupations?\n",
    "3. Is there a significant interaction between Education and Occupation on Salary?\n",
    "\n",
    "Use the relevant statistical tests to answer the above questions and state your conclusions along with all necessary steps.\n",
    "\n",
    "#### **Note**: Assume that the data follows a normal distribution. In reality, the normality assumption may not always hold if the sample size is small."
   ]
  },
  {
   "cell_type": "markdown",
   "id": "706beb97",
   "metadata": {
    "id": "706beb97"
   },
   "source": [
    "## Importing Dataset"
   ]
  },
  {
   "cell_type": "code",
   "execution_count": 76,
   "id": "c36cb566",
   "metadata": {
    "id": "c36cb566"
   },
   "outputs": [],
   "source": [
    "df= pd.read_csv(\"C:/Users/mechs/OneDrive/Desktop/AS EXTENDED PROJECT/SalaryData.csv\") ##  Fill the blank to read the data"
   ]
  },
  {
   "cell_type": "markdown",
   "id": "14730160",
   "metadata": {
    "id": "14730160"
   },
   "source": [
    "## Overview of the Dataset"
   ]
  },
  {
   "cell_type": "markdown",
   "id": "06218b69",
   "metadata": {
    "id": "06218b69"
   },
   "source": [
    "### View the first and last 5 rows of the dataset"
   ]
  },
  {
   "cell_type": "code",
   "execution_count": 78,
   "id": "b40ee71d",
   "metadata": {
    "id": "b40ee71d"
   },
   "outputs": [
    {
     "data": {
      "text/html": [
       "<div>\n",
       "<style scoped>\n",
       "    .dataframe tbody tr th:only-of-type {\n",
       "        vertical-align: middle;\n",
       "    }\n",
       "\n",
       "    .dataframe tbody tr th {\n",
       "        vertical-align: top;\n",
       "    }\n",
       "\n",
       "    .dataframe thead th {\n",
       "        text-align: right;\n",
       "    }\n",
       "</style>\n",
       "<table border=\"1\" class=\"dataframe\">\n",
       "  <thead>\n",
       "    <tr style=\"text-align: right;\">\n",
       "      <th></th>\n",
       "      <th>Education</th>\n",
       "      <th>Occupation</th>\n",
       "      <th>Salary</th>\n",
       "    </tr>\n",
       "  </thead>\n",
       "  <tbody>\n",
       "    <tr>\n",
       "      <th>0</th>\n",
       "      <td>Doctorate</td>\n",
       "      <td>Adm-clerical</td>\n",
       "      <td>153197</td>\n",
       "    </tr>\n",
       "    <tr>\n",
       "      <th>1</th>\n",
       "      <td>Doctorate</td>\n",
       "      <td>Adm-clerical</td>\n",
       "      <td>115945</td>\n",
       "    </tr>\n",
       "    <tr>\n",
       "      <th>2</th>\n",
       "      <td>Doctorate</td>\n",
       "      <td>Adm-clerical</td>\n",
       "      <td>175935</td>\n",
       "    </tr>\n",
       "    <tr>\n",
       "      <th>3</th>\n",
       "      <td>Doctorate</td>\n",
       "      <td>Adm-clerical</td>\n",
       "      <td>220754</td>\n",
       "    </tr>\n",
       "    <tr>\n",
       "      <th>4</th>\n",
       "      <td>Doctorate</td>\n",
       "      <td>Sales</td>\n",
       "      <td>170769</td>\n",
       "    </tr>\n",
       "  </tbody>\n",
       "</table>\n",
       "</div>"
      ],
      "text/plain": [
       "    Education     Occupation  Salary\n",
       "0   Doctorate   Adm-clerical  153197\n",
       "1   Doctorate   Adm-clerical  115945\n",
       "2   Doctorate   Adm-clerical  175935\n",
       "3   Doctorate   Adm-clerical  220754\n",
       "4   Doctorate          Sales  170769"
      ]
     },
     "execution_count": 78,
     "metadata": {},
     "output_type": "execute_result"
    }
   ],
   "source": [
    "df.head() ##  Complete the code to view top 5 rows of the data"
   ]
  },
  {
   "cell_type": "code",
   "execution_count": 79,
   "id": "ed1787b6",
   "metadata": {
    "id": "ed1787b6"
   },
   "outputs": [
    {
     "data": {
      "text/html": [
       "<div>\n",
       "<style scoped>\n",
       "    .dataframe tbody tr th:only-of-type {\n",
       "        vertical-align: middle;\n",
       "    }\n",
       "\n",
       "    .dataframe tbody tr th {\n",
       "        vertical-align: top;\n",
       "    }\n",
       "\n",
       "    .dataframe thead th {\n",
       "        text-align: right;\n",
       "    }\n",
       "</style>\n",
       "<table border=\"1\" class=\"dataframe\">\n",
       "  <thead>\n",
       "    <tr style=\"text-align: right;\">\n",
       "      <th></th>\n",
       "      <th>Education</th>\n",
       "      <th>Occupation</th>\n",
       "      <th>Salary</th>\n",
       "    </tr>\n",
       "  </thead>\n",
       "  <tbody>\n",
       "    <tr>\n",
       "      <th>35</th>\n",
       "      <td>Bachelors</td>\n",
       "      <td>Exec-managerial</td>\n",
       "      <td>173935</td>\n",
       "    </tr>\n",
       "    <tr>\n",
       "      <th>36</th>\n",
       "      <td>Bachelors</td>\n",
       "      <td>Exec-managerial</td>\n",
       "      <td>212448</td>\n",
       "    </tr>\n",
       "    <tr>\n",
       "      <th>37</th>\n",
       "      <td>Bachelors</td>\n",
       "      <td>Exec-managerial</td>\n",
       "      <td>173664</td>\n",
       "    </tr>\n",
       "    <tr>\n",
       "      <th>38</th>\n",
       "      <td>Bachelors</td>\n",
       "      <td>Exec-managerial</td>\n",
       "      <td>212760</td>\n",
       "    </tr>\n",
       "    <tr>\n",
       "      <th>39</th>\n",
       "      <td>Doctorate</td>\n",
       "      <td>Exec-managerial</td>\n",
       "      <td>212781</td>\n",
       "    </tr>\n",
       "  </tbody>\n",
       "</table>\n",
       "</div>"
      ],
      "text/plain": [
       "     Education        Occupation  Salary\n",
       "35   Bachelors   Exec-managerial  173935\n",
       "36   Bachelors   Exec-managerial  212448\n",
       "37   Bachelors   Exec-managerial  173664\n",
       "38   Bachelors   Exec-managerial  212760\n",
       "39   Doctorate   Exec-managerial  212781"
      ]
     },
     "execution_count": 79,
     "metadata": {},
     "output_type": "execute_result"
    }
   ],
   "source": [
    "df.tail() ##  Complete the code to view last 5 rows of the data"
   ]
  },
  {
   "cell_type": "markdown",
   "id": "b9ee54d8",
   "metadata": {
    "id": "b9ee54d8"
   },
   "source": [
    "### Understand the shape of the dataset"
   ]
  },
  {
   "cell_type": "code",
   "execution_count": 80,
   "id": "8ef83bec",
   "metadata": {
    "id": "8ef83bec"
   },
   "outputs": [
    {
     "data": {
      "text/plain": [
       "(40, 3)"
      ]
     },
     "execution_count": 80,
     "metadata": {},
     "output_type": "execute_result"
    }
   ],
   "source": [
    "df.shape ##  Complete the code to view dimensions of the data"
   ]
  },
  {
   "cell_type": "markdown",
   "id": "8a475497",
   "metadata": {
    "id": "8a475497"
   },
   "source": [
    "### Check the data types of the columns for the dataset"
   ]
  },
  {
   "cell_type": "code",
   "execution_count": 81,
   "id": "3f5042de",
   "metadata": {
    "id": "3f5042de"
   },
   "outputs": [
    {
     "data": {
      "text/plain": [
       "Education     object\n",
       "Occupation    object\n",
       "Salary         int64\n",
       "dtype: object"
      ]
     },
     "execution_count": 81,
     "metadata": {},
     "output_type": "execute_result"
    }
   ],
   "source": [
    "df.dtypes ##  Complete the code to check the data types of the columns for the dataset"
   ]
  },
  {
   "cell_type": "markdown",
   "id": "3cd44694",
   "metadata": {
    "id": "3cd44694"
   },
   "source": [
    "### Check the missing values in the dataset"
   ]
  },
  {
   "cell_type": "code",
   "execution_count": 83,
   "id": "8335b4a3",
   "metadata": {
    "id": "8335b4a3"
   },
   "outputs": [
    {
     "data": {
      "text/plain": [
       "Education     0\n",
       "Occupation    0\n",
       "Salary        0\n",
       "dtype: int64"
      ]
     },
     "execution_count": 83,
     "metadata": {},
     "output_type": "execute_result"
    }
   ],
   "source": [
    "df.isnull().sum() ##  Complete the code to check the missing values in the dataset"
   ]
  },
  {
   "cell_type": "markdown",
   "id": "86466e1e",
   "metadata": {
    "id": "86466e1e"
   },
   "source": [
    "### Let's check the statistical summary of the data"
   ]
  },
  {
   "cell_type": "code",
   "execution_count": 84,
   "id": "06da7ed4",
   "metadata": {
    "colab": {
     "base_uri": "https://localhost:8080/",
     "height": 130
    },
    "id": "06da7ed4",
    "outputId": "6f024155-a301-48b0-eee4-4bbbec92d880"
   },
   "outputs": [
    {
     "data": {
      "text/html": [
       "<div>\n",
       "<style scoped>\n",
       "    .dataframe tbody tr th:only-of-type {\n",
       "        vertical-align: middle;\n",
       "    }\n",
       "\n",
       "    .dataframe tbody tr th {\n",
       "        vertical-align: top;\n",
       "    }\n",
       "\n",
       "    .dataframe thead th {\n",
       "        text-align: right;\n",
       "    }\n",
       "</style>\n",
       "<table border=\"1\" class=\"dataframe\">\n",
       "  <thead>\n",
       "    <tr style=\"text-align: right;\">\n",
       "      <th></th>\n",
       "      <th>Salary</th>\n",
       "    </tr>\n",
       "  </thead>\n",
       "  <tbody>\n",
       "    <tr>\n",
       "      <th>count</th>\n",
       "      <td>40.000000</td>\n",
       "    </tr>\n",
       "    <tr>\n",
       "      <th>mean</th>\n",
       "      <td>162186.875000</td>\n",
       "    </tr>\n",
       "    <tr>\n",
       "      <th>std</th>\n",
       "      <td>64860.407506</td>\n",
       "    </tr>\n",
       "    <tr>\n",
       "      <th>min</th>\n",
       "      <td>50103.000000</td>\n",
       "    </tr>\n",
       "    <tr>\n",
       "      <th>25%</th>\n",
       "      <td>99897.500000</td>\n",
       "    </tr>\n",
       "    <tr>\n",
       "      <th>50%</th>\n",
       "      <td>169100.000000</td>\n",
       "    </tr>\n",
       "    <tr>\n",
       "      <th>75%</th>\n",
       "      <td>214440.750000</td>\n",
       "    </tr>\n",
       "    <tr>\n",
       "      <th>max</th>\n",
       "      <td>260151.000000</td>\n",
       "    </tr>\n",
       "  </tbody>\n",
       "</table>\n",
       "</div>"
      ],
      "text/plain": [
       "              Salary\n",
       "count      40.000000\n",
       "mean   162186.875000\n",
       "std     64860.407506\n",
       "min     50103.000000\n",
       "25%     99897.500000\n",
       "50%    169100.000000\n",
       "75%    214440.750000\n",
       "max    260151.000000"
      ]
     },
     "execution_count": 84,
     "metadata": {},
     "output_type": "execute_result"
    }
   ],
   "source": [
    "df.describe() ##  Complete the code to print the statistical summary of the data"
   ]
  },
  {
   "cell_type": "markdown",
   "id": "pwmO4ZLuUwez",
   "metadata": {
    "id": "pwmO4ZLuUwez"
   },
   "source": [
    "### 1. Is there any significant difference in salaries among different levels of education?"
   ]
  },
  {
   "cell_type": "markdown",
   "id": "2887e7ba",
   "metadata": {
    "id": "2887e7ba"
   },
   "source": [
    "#### State the null and the alternate hypothesis for conducting one-way ANOVA for both Education and Occupation individually."
   ]
  },
  {
   "cell_type": "markdown",
   "id": "0ae0817f",
   "metadata": {
    "id": "0ae0817f"
   },
   "source": [
    "Null hypothesis (H0): There is no significant difference in salaries among different levels of education or different occupations.\n",
    "Alternate hypothesis (H1): There is a significant difference in salaries among different levels of education or different occupations."
   ]
  },
  {
   "cell_type": "markdown",
   "id": "d21ec542",
   "metadata": {
    "id": "d21ec542"
   },
   "source": [
    "#### One-Way ANOVA: Salary with respect to Education"
   ]
  },
  {
   "cell_type": "code",
   "execution_count": 85,
   "id": "267a06fd",
   "metadata": {
    "id": "267a06fd"
   },
   "outputs": [],
   "source": [
    "df=pd.read_csv(\"C:/Users/mechs/OneDrive/Desktop/AS EXTENDED PROJECT/SalaryData.csv\") ##  Fill the blank to read the data"
   ]
  },
  {
   "cell_type": "code",
   "execution_count": 86,
   "id": "3adda95e",
   "metadata": {
    "id": "3adda95e"
   },
   "outputs": [
    {
     "name": "stdout",
     "output_type": "stream",
     "text": [
      "Reject the null hypothesis. There is a significant difference in salaries based on education.\n"
     ]
    }
   ],
   "source": [
    "import scipy.stats as stats\n",
    "\n",
    "# Perform one-way ANOVA\n",
    "anova_edu = stats.f_oneway(df[df['Education'] == ' HS-grad']['Salary'],\n",
    "                           df[df['Education'] == ' Bachelors']['Salary'],\n",
    "                           df[df['Education'] == ' Doctorate']['Salary'])\n",
    "\n",
    "# Interpret ANOVA results\n",
    "if anova_edu.pvalue < 0.05:\n",
    "    print(\"Reject the null hypothesis. There is a significant difference in salaries based on education.\")\n",
    "else:\n",
    "    print(\"Fail to reject the null hypothesis. There is no significant difference in salaries based on education.\")"
   ]
  },
  {
   "cell_type": "markdown",
   "id": "amk3am_6VCjU",
   "metadata": {
    "id": "amk3am_6VCjU"
   },
   "source": [
    "### 2. Is there any significant difference in salaries among different levels of different occupations?"
   ]
  },
  {
   "cell_type": "markdown",
   "id": "f733f357",
   "metadata": {
    "id": "f733f357"
   },
   "source": [
    "#### One-Way ANOVA: Salary with respect to Occupation"
   ]
  },
  {
   "cell_type": "code",
   "execution_count": 88,
   "id": "b89eb5e0",
   "metadata": {
    "id": "b89eb5e0"
   },
   "outputs": [
    {
     "name": "stdout",
     "output_type": "stream",
     "text": [
      "Fail to reject the null hypothesis. There is no significant difference in salaries based on occupation.\n"
     ]
    }
   ],
   "source": [
    "# Perform one-way ANOVA\n",
    "anova_occ = stats.f_oneway(df[df['Occupation'] == ' Adm-clerical']['Salary'],\n",
    "                           df[df['Occupation'] == ' Sales']['Salary'],\n",
    "                           df[df['Occupation'] == ' Prof-specialty']['Salary'],\n",
    "                           df[df['Occupation'] == ' Exec-managerial']['Salary'])\n",
    "\n",
    "# Interpret ANOVA results\n",
    "if anova_occ.pvalue < 0.05:\n",
    "    print(\"Reject the null hypothesis. There is a significant difference in salaries based on occupation.\")\n",
    "else:\n",
    "    print(\"Fail to reject the null hypothesis. There is no significant difference in salaries based on occupation.\")"
   ]
  },
  {
   "cell_type": "markdown",
   "id": "72e35062",
   "metadata": {
    "id": "72e35062"
   },
   "source": [
    "### 3. Is there a significant interaction between Education and Occupation on Salary?"
   ]
  },
  {
   "cell_type": "code",
   "execution_count": 89,
   "id": "ee0d07b6",
   "metadata": {
    "id": "ee0d07b6"
   },
   "outputs": [
    {
     "name": "stdout",
     "output_type": "stream",
     "text": [
      "Reject the null hypothesis. There is a significant interaction between Education and Occupation on Salary.\n"
     ]
    }
   ],
   "source": [
    "import statsmodels.api as sm\n",
    "from statsmodels.formula.api import ols\n",
    "\n",
    "# Perform two-way ANOVA\n",
    "model = ols('Salary ~ Education + Occupation + Education:Occupation', data=df).fit()\n",
    "anova_two_way = sm.stats.anova_lm(model)\n",
    "\n",
    "# Interpret ANOVA results\n",
    "if anova_two_way['PR(>F)'][0] < 0.05:\n",
    "    print(\"Reject the null hypothesis. There is a significant interaction between Education and Occupation on Salary.\")\n",
    "else:\n",
    "    print(\"Fail to reject the null hypothesis. There is no significant interaction between Education and Occupation on Salary.\")"
   ]
  },
  {
   "cell_type": "markdown",
   "id": "167017c3",
   "metadata": {
    "id": "167017c3"
   },
   "source": [
    "#### Business implications of performing ANOVA for this particular case study."
   ]
  },
  {
   "cell_type": "markdown",
   "id": "2b839162",
   "metadata": {
    "id": "2b839162"
   },
   "source": [
    "Performing ANOVA in this case study helps understand the relationship between Salary and the factors Education and Occupation. The results provide insights into how salaries vary across different levels of education and occupation categories. If significant differences are found, it can aid in making informed decisions related to salary structures, career paths, and educational requirements. For example, if there are significant differences in salaries based on education levels, organizations may consider adjusting compensation or designing targeted professional development programs to enhance employee qualifications. Similarly, if significant differences are observed based on occupation, businesses can strategize recruitment, promotion, or compensation strategies to align with the demands and competencies associated with different job roles.\n",
    "\n",
    "Additionally, the two-way ANOVA examines the interaction effect between Education and Occupation. If a significant interaction is present, it indicates that the effect of one factor (e.g., Education) on Salary may depend on the levels of the other factor (e.g., Occupation). This finding can guide organizations in understanding the complex interplay between education and occupation and how it influences salary outcomes, providing insights for talent management, job design, and performance evaluation."
   ]
  }
 ],
 "metadata": {
  "colab": {
   "collapsed_sections": [
    "EHfztPYRahVa",
    "-3Ac0kySZ7NG",
    "G4owlGO6b9AS",
    "116fcc8b",
    "3e0a735a",
    "fef4fdb2",
    "f88e826b",
    "3834d839",
    "8971a9f2",
    "a15ccd7e",
    "f4fce9bc"
   ],
   "provenance": []
  },
  "kernelspec": {
   "display_name": "Python 3 (ipykernel)",
   "language": "python",
   "name": "python3"
  },
  "language_info": {
   "codemirror_mode": {
    "name": "ipython",
    "version": 3
   },
   "file_extension": ".py",
   "mimetype": "text/x-python",
   "name": "python",
   "nbconvert_exporter": "python",
   "pygments_lexer": "ipython3",
   "version": "3.9.12"
  }
 },
 "nbformat": 4,
 "nbformat_minor": 5
}
